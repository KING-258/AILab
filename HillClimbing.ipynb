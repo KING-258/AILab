{
 "cells": [
  {
   "cell_type": "code",
   "execution_count": 1,
   "metadata": {},
   "outputs": [],
   "source": [
    "class Graph:\n",
    "    def __init__(self, v):\n",
    "        self.vertices = v\n",
    "        self.adj_list = {v : [] for v in range(self.vertices)}\n",
    "    \n",
    "    def movement(self, v1, v2, w):\n",
    "        self.adj_list[v1].append(((v1, w), v2))\n",
    "        \n",
    "    def printlist(self):\n",
    "        for i in self.adj_list:\n",
    "            print(i, end='-->')\n",
    "            print(self.adj_list[i])"
   ]
  },
  {
   "cell_type": "code",
   "execution_count": 2,
   "metadata": {},
   "outputs": [],
   "source": [
    "def heuristic(current, goal):\n",
    "    return abs(goal - current)"
   ]
  },
  {
   "cell_type": "code",
   "execution_count": 13,
   "metadata": {},
   "outputs": [],
   "source": [
    "def hill_climbing(graph, start, goal):\n",
    "    current = start\n",
    "    path = [current]\n",
    "    while current != goal:\n",
    "        neighbors = graph.adj_list[current]\n",
    "        if not neighbors:\n",
    "            break\n",
    "        next_neighbor = max(neighbors, key=lambda x: heuristic(x[1], goal))\n",
    "        if heuristic(next_neighbor[1], goal) >= heuristic(current, goal):\n",
    "            break\n",
    "        current = next_neighbor[1]\n",
    "        path.append(current)\n",
    "    return path\n"
   ]
  },
  {
   "cell_type": "code",
   "execution_count": 14,
   "metadata": {},
   "outputs": [
    {
     "name": "stdout",
     "output_type": "stream",
     "text": [
      "Path found by Hill Climbing: [0, 1, 3]\n"
     ]
    }
   ],
   "source": [
    "a = int(input(\"Enter Number of Vertices : \"))\n",
    "g = Graph(a)\n",
    "for i in range(a):\n",
    "    b = int(input(f\"OutDegree of {i}: \"))\n",
    "    for j in range(b):\n",
    "        c = int(input(f\"Entry Number {j+1} for {i}: \"))\n",
    "        d = int(input(\"Weight for Movement : \"))\n",
    "        g.movement(i, c, d)\n",
    "start = int(input(\"Starting Vertex : \"))\n",
    "goal = int(input(\"Goal Vertex : \"))\n",
    "result = hill_climbing(g, start, goal)\n",
    "print(\"Path found by Hill Climbing:\", result)"
   ]
  },
  {
   "cell_type": "code",
   "execution_count": null,
   "metadata": {},
   "outputs": [],
   "source": []
  }
 ],
 "metadata": {
  "kernelspec": {
   "display_name": "Python 3",
   "language": "python",
   "name": "python3"
  },
  "language_info": {
   "codemirror_mode": {
    "name": "ipython",
    "version": 3
   },
   "file_extension": ".py",
   "mimetype": "text/x-python",
   "name": "python",
   "nbconvert_exporter": "python",
   "pygments_lexer": "ipython3",
   "version": "3.11.8"
  }
 },
 "nbformat": 4,
 "nbformat_minor": 2
}
