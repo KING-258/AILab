{
 "cells": [
  {
   "cell_type": "code",
   "execution_count": 1,
   "metadata": {},
   "outputs": [],
   "source": [
    "class Graph:\n",
    "    def __init__(self, v):\n",
    "        self.vertices = v\n",
    "        self.adj_list = {v : [] for v in range(self.vertices)}\n",
    "    \n",
    "    def movement(self, v1, v2, w):\n",
    "        self.adj_list[v1].append(([v1, w], v2))\n",
    "    def printlist(self):\n",
    "        for i in self.adj_list:\n",
    "            print(i, end='-->')\n",
    "            print(self.adj_list[i])"
   ]
  },
  {
   "cell_type": "code",
   "execution_count": 2,
   "metadata": {},
   "outputs": [],
   "source": [
    "a = int(input(\"Enter Number of Vertices: \"))\n",
    "    g = Graph(a)def heuristic(current , goal):\n",
    "    return abs(goal-current)"
   ]
  },
  {
   "cell_type": "code",
   "execution_count": 7,
   "metadata": {},
   "outputs": [],
   "source": [
    "def a_star(g, start, goal):\n",
    "    visited = set()\n",
    "    path = []\n",
    "    q = [(heuristic(start, goal), start, path)]\n",
    "    while len(q) != 0:\n",
    "        heuristic_val, current, path = q.pop(0)\n",
    "        if current == goal:\n",
    "            return path + [current]\n",
    "        if current in visited:\n",
    "            continue\n",
    "        visited.add(current)\n",
    "        for node in g.adj_list[current]:\n",
    "            info, neighbor = node\n",
    "            n1, cost = info\n",
    "            n_path = path + [current]\n",
    "            q.append((heuristic(neighbor,goal) + int(cost), neighbor, n_path))\n",
    "        q.sort()\n",
    "    return None"
   ]
  },
  {
   "cell_type": "code",
   "execution_count": 8,
   "metadata": {},
   "outputs": [],
   "source": [
    "a = int(input(\"Enter Number of Vertices : \"))\n",
    "g = Graph(a)\n",
    "for i in range(a):\n",
    "    b = int(input(f\"OutDegree of {i}: \"))\n",
    "    for j in range(b):\n",
    "        c = int(input(f\"Entry Number {j+1} for {i}: \"))\n",
    "        d = int(input(\"Weight for Movement : \"))\n",
    "        g.movement(i,c,d)\n",
    "start = int(input(\"Starting Vertex : \"))\n",
    "goal = int(input(\"Goal Vertex : \"))\n",
    "result = a_star(g, start, goal)"
   ]
  },
  {
   "cell_type": "code",
   "execution_count": 9,
   "metadata": {},
   "outputs": [
    {
     "name": "stdout",
     "output_type": "stream",
     "text": [
      "[0, 2, 3]\n"
     ]
    }
   ],
   "source": [
    "print(result)"
   ]
  }
 ],
 "metadata": {
  "kernelspec": {
   "display_name": "Python 3",
   "language": "python",
   "name": "python3"
  },
  "language_info": {
   "codemirror_mode": {
    "name": "ipython",
    "version": 3
   },
   "file_extension": ".py",
   "mimetype": "text/x-python",
   "name": "python",
   "nbconvert_exporter": "python",
   "pygments_lexer": "ipython3",
   "version": "3.11.8"
  }
 },
 "nbformat": 4,
 "nbformat_minor": 2
}
